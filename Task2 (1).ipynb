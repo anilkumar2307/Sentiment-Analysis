{
  "nbformat": 4,
  "nbformat_minor": 0,
  "metadata": {
    "colab": {
      "provenance": []
    },
    "kernelspec": {
      "name": "python3",
      "display_name": "Python 3"
    },
    "language_info": {
      "name": "python"
    }
  },
  "cells": [
    {
      "cell_type": "code",
      "execution_count": null,
      "metadata": {
        "id": "cR3gj8DHOpMb"
      },
      "outputs": [],
      "source": [
        "import pandas as pd\n",
        "from sklearn.model_selection import train_test_split\n",
        "from sklearn.preprocessing import StandardScaler, OneHotEncoder\n",
        "from sklearn.impute import SimpleImputer\n",
        "from sklearn.compose import ColumnTransformer\n",
        "from sklearn.pipeline import Pipeline"
      ]
    },
    {
      "cell_type": "code",
      "source": [
        "df = pd.read_csv('housing_prices.csv')"
      ],
      "metadata": {
        "id": "kTnwZdg3PMyA"
      },
      "execution_count": null,
      "outputs": []
    },
    {
      "cell_type": "code",
      "source": [
        "print(df.head())"
      ],
      "metadata": {
        "colab": {
          "base_uri": "https://localhost:8080/"
        },
        "id": "YJQtskeOPRgG",
        "outputId": "c7d7398f-98b9-4207-9453-e1fbed5d1a39"
      },
      "execution_count": null,
      "outputs": [
        {
          "output_type": "stream",
          "name": "stdout",
          "text": [
            "      price  area  bedrooms  bathrooms  stories mainroad guestroom basement  \\\n",
            "0  13300000  7420         4          2        3      yes        no       no   \n",
            "1  12250000  8960         4          4        4      yes        no       no   \n",
            "2  12250000  9960         3          2        2      yes        no      yes   \n",
            "3  12215000  7500         4          2        2      yes        no      yes   \n",
            "4  11410000  7420         4          1        2      yes       yes      yes   \n",
            "\n",
            "  hotwaterheating airconditioning  parking prefarea furnishingstatus  \n",
            "0              no             yes        2      yes        furnished  \n",
            "1              no             yes        3       no        furnished  \n",
            "2              no              no        2      yes   semi-furnished  \n",
            "3              no             yes        3      yes        furnished  \n",
            "4              no             yes        2       no        furnished  \n"
          ]
        }
      ]
    },
    {
      "cell_type": "code",
      "source": [
        "print(df.isnull().sum())"
      ],
      "metadata": {
        "colab": {
          "base_uri": "https://localhost:8080/"
        },
        "id": "zI-TvB7EPYjs",
        "outputId": "35e7222c-1a72-473e-9d16-87e56bdc6b51"
      },
      "execution_count": null,
      "outputs": [
        {
          "output_type": "stream",
          "name": "stdout",
          "text": [
            "price               0\n",
            "area                0\n",
            "bedrooms            0\n",
            "bathrooms           0\n",
            "stories             0\n",
            "mainroad            0\n",
            "guestroom           0\n",
            "basement            0\n",
            "hotwaterheating     0\n",
            "airconditioning     0\n",
            "parking             0\n",
            "prefarea            0\n",
            "furnishingstatus    0\n",
            "dtype: int64\n"
          ]
        }
      ]
    },
    {
      "cell_type": "code",
      "source": [
        "df.columns"
      ],
      "metadata": {
        "colab": {
          "base_uri": "https://localhost:8080/"
        },
        "id": "qTAi5QTQQIcr",
        "outputId": "4b80793a-ac22-46d0-d8af-ec77fdce5f53"
      },
      "execution_count": null,
      "outputs": [
        {
          "output_type": "execute_result",
          "data": {
            "text/plain": [
              "Index(['price', 'area', 'bedrooms', 'bathrooms', 'stories', 'mainroad',\n",
              "       'guestroom', 'basement', 'hotwaterheating', 'airconditioning',\n",
              "       'parking', 'prefarea', 'furnishingstatus'],\n",
              "      dtype='object')"
            ]
          },
          "metadata": {},
          "execution_count": 7
        }
      ]
    },
    {
      "cell_type": "code",
      "source": [
        "features = ['area', 'bedrooms', 'bathrooms', 'stories', 'mainroad', 'guestroom','basement', 'hotwaterheating', 'airconditioning', 'parking', 'prefarea', 'furnishingstatus']\n",
        "target = 'price'\n",
        "X = df[features]\n",
        "y = df[target]"
      ],
      "metadata": {
        "id": "n2ReVJgXPdp6"
      },
      "execution_count": null,
      "outputs": []
    },
    {
      "cell_type": "code",
      "source": [
        "numerical_features = ['area', 'bedrooms', 'bathrooms', 'stories', 'parking']\n",
        "numerical_transformer = Pipeline(steps=[\n",
        "    ('imputer', SimpleImputer(strategy='median')),\n",
        "    ('scaler', StandardScaler())])"
      ],
      "metadata": {
        "id": "NEvJaI2LQA7T"
      },
      "execution_count": null,
      "outputs": []
    },
    {
      "cell_type": "code",
      "source": [
        "categorical_features = ['mainroad', 'guestroom', 'basement', 'hotwaterheating',\n",
        "                        'airconditioning', 'prefarea', 'furnishingstatus']\n",
        "categorical_transformer = Pipeline(steps=[\n",
        "    ('imputer', SimpleImputer(strategy='most_frequent')),\n",
        "    ('onehot', OneHotEncoder(handle_unknown='ignore'))])\n"
      ],
      "metadata": {
        "id": "Tt6CYHysPkr6"
      },
      "execution_count": null,
      "outputs": []
    },
    {
      "cell_type": "code",
      "source": [
        "preprocessor = ColumnTransformer(\n",
        "    transformers=[\n",
        "        ('num', numerical_transformer, numerical_features),\n",
        "        ('cat', categorical_transformer, categorical_features)])"
      ],
      "metadata": {
        "id": "T5p2kvV2Radb"
      },
      "execution_count": null,
      "outputs": []
    },
    {
      "cell_type": "code",
      "source": [
        "X_train, X_test, y_train, y_test = train_test_split(X, y, test_size=0.2, random_state=42)\n",
        "X_train = preprocessor.fit_transform(X_train)\n",
        "X_test = preprocessor.transform(X_test)\n"
      ],
      "metadata": {
        "id": "3z5Xf9WuRdIV"
      },
      "execution_count": null,
      "outputs": []
    },
    {
      "cell_type": "code",
      "source": [
        "def evaluate_model(model, X_test, y_test):\n",
        "    predictions = model.predict(X_test)\n",
        "    rmse = np.sqrt(mean_squared_error(y_test, predictions))\n",
        "    mae = mean_absolute_error(y_test, predictions)\n",
        "    return rmse, mae"
      ],
      "metadata": {
        "id": "jGidrWwIRgr3"
      },
      "execution_count": null,
      "outputs": []
    },
    {
      "cell_type": "code",
      "source": [
        "from sklearn.linear_model import LinearRegression\n",
        "import numpy as np\n",
        "from sklearn.metrics import mean_squared_error\n",
        "from sklearn.metrics import mean_absolute_error\n"
      ],
      "metadata": {
        "id": "rzZOOVS0SCDR"
      },
      "execution_count": null,
      "outputs": []
    },
    {
      "cell_type": "code",
      "source": [
        "l = LinearRegression()\n",
        "l.fit(X_train, y_train)\n",
        "l_rmse, l_mae = evaluate_model(l, X_test, y_test)\n",
        "print(f'Linear Regression RMSE: {l_rmse}, MAE: {l_mae}')"
      ],
      "metadata": {
        "colab": {
          "base_uri": "https://localhost:8080/"
        },
        "id": "FKVUxQG-Ru89",
        "outputId": "f74dacc7-c664-4edc-9c95-f807749a2b98"
      },
      "execution_count": null,
      "outputs": [
        {
          "output_type": "stream",
          "name": "stdout",
          "text": [
            "Linear Regression RMSE: 1324506.9600914402, MAE: 970043.4039201644\n"
          ]
        }
      ]
    },
    {
      "cell_type": "code",
      "source": [
        "from sklearn.tree import DecisionTreeRegressor"
      ],
      "metadata": {
        "id": "YO67edzRSoLz"
      },
      "execution_count": null,
      "outputs": []
    },
    {
      "cell_type": "code",
      "source": [
        "d = DecisionTreeRegressor(random_state=42)\n",
        "d.fit(X_train, y_train)\n",
        "d_rmse, d_mae = evaluate_model(d, X_test, y_test)\n",
        "print(f'Decision Tree Regression RMSE: {d_rmse}, MAE: {d_mae}')"
      ],
      "metadata": {
        "colab": {
          "base_uri": "https://localhost:8080/"
        },
        "id": "Wm7OyeemR2an",
        "outputId": "03f30002-880f-4c7c-ea21-d5be883e6ec2"
      },
      "execution_count": null,
      "outputs": [
        {
          "output_type": "stream",
          "name": "stdout",
          "text": [
            "Decision Tree Regression RMSE: 1699626.144131854, MAE: 1234857.7981651376\n"
          ]
        }
      ]
    },
    {
      "cell_type": "code",
      "source": [
        "from sklearn.ensemble import RandomForestRegressor"
      ],
      "metadata": {
        "id": "GNsRh85-S15c"
      },
      "execution_count": null,
      "outputs": []
    },
    {
      "cell_type": "code",
      "source": [
        "r = RandomForestRegressor(random_state=42)\n",
        "r.fit(X_train, y_train)\n",
        "r_rmse, r_mae = evaluate_model(r, X_test, y_test)\n",
        "print(f'Random Forest Regression RMSE: {r_rmse}, MAE: {r_mae}')"
      ],
      "metadata": {
        "colab": {
          "base_uri": "https://localhost:8080/"
        },
        "id": "LzY7vHRGSbhD",
        "outputId": "eb13447e-ac64-453a-f90e-f50ff352a04e"
      },
      "execution_count": null,
      "outputs": [
        {
          "output_type": "stream",
          "name": "stdout",
          "text": [
            "Random Forest Regression RMSE: 1403925.371676078, MAE: 1025961.1683486238\n"
          ]
        }
      ]
    },
    {
      "cell_type": "code",
      "source": [
        "results = {\n",
        "    'Model': ['Linear Regression', 'Decision Tree Regression', 'Random Forest Regression'],\n",
        "    'RMSE': [l_rmse, d_rmse, r_rmse],\n",
        "    'MAE': [l_mae, d_mae, r_mae]\n",
        "}"
      ],
      "metadata": {
        "id": "hJsM9kawSzVf"
      },
      "execution_count": null,
      "outputs": []
    },
    {
      "cell_type": "code",
      "source": [
        "results_df = pd.DataFrame(results)\n",
        "print(results_df)"
      ],
      "metadata": {
        "colab": {
          "base_uri": "https://localhost:8080/"
        },
        "id": "q35AfSVBTgHP",
        "outputId": "d5a11061-336a-4fae-9a49-7f1580a0615d"
      },
      "execution_count": null,
      "outputs": [
        {
          "output_type": "stream",
          "name": "stdout",
          "text": [
            "                      Model          RMSE           MAE\n",
            "0         Linear Regression  1.324507e+06  9.700434e+05\n",
            "1  Decision Tree Regression  1.699626e+06  1.234858e+06\n",
            "2  Random Forest Regression  1.403925e+06  1.025961e+06\n"
          ]
        }
      ]
    },
    {
      "cell_type": "code",
      "source": [
        "best_model = r\n",
        "print(f'The best-performing model is: Random Forest Regression')\n",
        "print(f' with RMSE: {r_rmse} and MAE: {r_mae}')"
      ],
      "metadata": {
        "colab": {
          "base_uri": "https://localhost:8080/"
        },
        "id": "SWfrBDl4TlJ2",
        "outputId": "b6da53cf-40b0-4133-a6f5-4eaaf5e85071"
      },
      "execution_count": null,
      "outputs": [
        {
          "output_type": "stream",
          "name": "stdout",
          "text": [
            "The best-performing model is: Random Forest Regression\n",
            " with RMSE: 1403925.371676078 and MAE: 1025961.1683486238\n"
          ]
        }
      ]
    },
    {
      "cell_type": "code",
      "source": [
        "from sklearn.metrics import accuracy_score"
      ],
      "metadata": {
        "id": "qffq7d9RT1ql"
      },
      "execution_count": null,
      "outputs": []
    },
    {
      "cell_type": "code",
      "source": [
        "import numpy as np\n",
        "threshold = 0.3\n",
        "predictions = r.predict(X_test)\n",
        "absolute_error = np.abs(predictions - y_test) / y_test\n",
        "accuracy = np.mean(absolute_error <= threshold) * 100\n",
        "print(f'Accuracy: {accuracy:.2f}%')"
      ],
      "metadata": {
        "colab": {
          "base_uri": "https://localhost:8080/"
        },
        "id": "cTbdOOwgZOtm",
        "outputId": "ecc6bab5-6bbe-4d0a-a420-17924a8a8466"
      },
      "execution_count": null,
      "outputs": [
        {
          "output_type": "stream",
          "name": "stdout",
          "text": [
            "Accuracy: 73.39%\n"
          ]
        }
      ]
    },
    {
      "cell_type": "code",
      "source": [
        "import numpy as np\n",
        "threshold = 0.2\n",
        "predictions = l.predict(X_test)\n",
        "absolute_error = np.abs(predictions - y_test) / y_test\n",
        "accuracy = np.mean(absolute_error <= threshold) * 100\n",
        "print(f'Accuracy: {accuracy:.2f}%')"
      ],
      "metadata": {
        "colab": {
          "base_uri": "https://localhost:8080/"
        },
        "id": "-YF9d723bAoq",
        "outputId": "28cdaf6a-b0f4-4e02-9a97-29a62ec5102d"
      },
      "execution_count": null,
      "outputs": [
        {
          "output_type": "stream",
          "name": "stdout",
          "text": [
            "Accuracy: 59.63%\n"
          ]
        }
      ]
    },
    {
      "cell_type": "code",
      "source": [
        "import numpy as np\n",
        "threshold = 0.3\n",
        "predictions = d.predict(X_test)\n",
        "absolute_error = np.abs(predictions - y_test) / y_test\n",
        "accuracy = np.mean(absolute_error <= threshold) * 100\n",
        "print(f'Accuracy: {accuracy:.2f}%')"
      ],
      "metadata": {
        "colab": {
          "base_uri": "https://localhost:8080/"
        },
        "id": "vU6ex05jZ6JU",
        "outputId": "5f6d4379-0db0-45d0-d409-c6f1dc3f1f47"
      },
      "execution_count": null,
      "outputs": [
        {
          "output_type": "stream",
          "name": "stdout",
          "text": [
            "Accuracy: 66.06%\n"
          ]
        }
      ]
    },
    {
      "cell_type": "code",
      "source": [
        "import numpy as np\n",
        "from sklearn.linear_model import LinearRegression\n",
        "from sklearn.metrics import r2_score\n",
        "X = np.array([[1], [2], [3], [4], [5]])\n",
        "y = np.array([1.1, 1.9, 3.2, 4.0, 5.1])\n",
        "model = LinearRegression()\n",
        "model.fit(X, y)\n",
        "y_pred = model.predict(X)\n",
        "r_squared = r2_score(y, y_pred)\n",
        "print(\"R-squared:\", r_squared)\n"
      ],
      "metadata": {
        "colab": {
          "base_uri": "https://localhost:8080/"
        },
        "id": "9TWDWz5CmWBy",
        "outputId": "14ac7d7e-619f-484f-f640-cf7514c46b75"
      },
      "execution_count": null,
      "outputs": [
        {
          "output_type": "stream",
          "name": "stdout",
          "text": [
            "R-squared: 0.9950253609051892\n"
          ]
        }
      ]
    },
    {
      "cell_type": "code",
      "source": [
        "from sklearn.tree import DecisionTreeRegressor\n",
        "from sklearn.metrics import r2_score\n",
        "X = np.array([[1], [2], [3], [4], [5]])\n",
        "y = np.array([1.1, 1.9, 3.2, 4.0, 5.1])\n",
        "model =DecisionTreeRegressor()\n",
        "model.fit(X, y)\n",
        "y_pred = model.predict(X)\n",
        "r_squared = r2_score(y, y_pred)\n",
        "print(\"R-squared:\", r_squared)"
      ],
      "metadata": {
        "colab": {
          "base_uri": "https://localhost:8080/"
        },
        "id": "45ykwgvam7ae",
        "outputId": "846343fa-51d4-4b69-b195-9b4b57085b5a"
      },
      "execution_count": null,
      "outputs": [
        {
          "output_type": "stream",
          "name": "stdout",
          "text": [
            "R-squared: 1.0\n"
          ]
        }
      ]
    },
    {
      "cell_type": "code",
      "source": [
        "from sklearn.ensemble import RandomForestRegressor\n",
        "from sklearn.metrics import r2_score\n",
        "X = np.array([[1], [2], [3], [4], [5]])\n",
        "y = np.array([1.1, 1.9, 3.2, 4.0, 5.1])\n",
        "model =RandomForestRegressor()\n",
        "model.fit(X, y)\n",
        "y_pred = model.predict(X)\n",
        "r_squared = r2_score(y, y_pred)\n",
        "print(\"R-squared:\", r_squared)"
      ],
      "metadata": {
        "colab": {
          "base_uri": "https://localhost:8080/"
        },
        "id": "6jv_NBYtnQ7e",
        "outputId": "1f927817-fd6d-4728-da9f-b527c6526872"
      },
      "execution_count": null,
      "outputs": [
        {
          "output_type": "stream",
          "name": "stdout",
          "text": [
            "R-squared: 0.9568105735466255\n"
          ]
        }
      ]
    },
    {
      "cell_type": "code",
      "source": [],
      "metadata": {
        "id": "jujrxfJZnbQG"
      },
      "execution_count": null,
      "outputs": []
    }
  ]
}